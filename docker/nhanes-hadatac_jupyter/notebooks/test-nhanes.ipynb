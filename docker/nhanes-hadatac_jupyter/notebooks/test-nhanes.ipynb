{
 "cells": [
  {
   "cell_type": "markdown",
   "id": "96b73d75-953e-4bd5-9bbf-f733ad48a891",
   "metadata": {},
   "source": [
    "# NHANES-HADatAc"
   ]
  },
  {
   "cell_type": "markdown",
   "id": "9c8465c5",
   "metadata": {},
   "source": [
    "Importing required R packages."
   ]
  },
  {
   "cell_type": "code",
   "execution_count": 1,
   "id": "d0a4dad4-570a-4ea1-a751-4330d51902a0",
   "metadata": {},
   "outputs": [
    {
     "ename": "NameError",
     "evalue": "name 'require' is not defined",
     "output_type": "error",
     "traceback": [
      "\u001b[0;31m---------------------------------------------------------------------------\u001b[0m",
      "\u001b[0;31mNameError\u001b[0m                                 Traceback (most recent call last)",
      "Cell \u001b[0;32mIn[1], line 1\u001b[0m\n\u001b[0;32m----> 1\u001b[0m \u001b[43mrequire\u001b[49m(ggplot2)\n\u001b[1;32m      2\u001b[0m require(haven)\n\u001b[1;32m      3\u001b[0m require(scales)\n",
      "\u001b[0;31mNameError\u001b[0m: name 'require' is not defined"
     ]
    }
   ],
   "source": [
    "require(ggplot2)\n",
    "require(haven)\n",
    "require(scales)\n",
    "require(survey)"
   ]
  },
  {
   "cell_type": "markdown",
   "id": "3891724f",
   "metadata": {},
   "source": [
    "Loading raw NHANES data as `df1` and NHANES-HADatAc data as `df2`."
   ]
  },
  {
   "cell_type": "code",
   "execution_count": null,
   "id": "4337f6fc-6c11-4aec-a8c4-ab556e52fb65",
   "metadata": {},
   "outputs": [
    {
     "ename": "",
     "evalue": "",
     "output_type": "error",
     "traceback": [
      "\u001b[1;31mRunning cells with '/bin/python3' requires the ipykernel package.\n",
      "\u001b[1;31mRun the following command to install 'ipykernel' into the Python environment. \n",
      "\u001b[1;31mCommand: '/bin/python3 -m pip install ipykernel -U --user --force-reinstall'"
     ]
    }
   ],
   "source": [
    "df1 <- read_xpt('data/DEMO_I.XPT')\n",
    "df2 <- read.csv('data/hadatac_demo_i.csv')"
   ]
  },
  {
   "cell_type": "markdown",
   "id": "07c576d5",
   "metadata": {},
   "source": [
    "Retrieving ethnicity variables from NHANES (`RIDRETH3`) and NHANES-HADatAc (`Eth`), converting their type to categorical (`*_factored`)."
   ]
  },
  {
   "cell_type": "code",
   "execution_count": null,
   "id": "0222b434-ee34-4668-9b70-0bba2d434b15",
   "metadata": {},
   "outputs": [
    {
     "ename": "",
     "evalue": "",
     "output_type": "error",
     "traceback": [
      "\u001b[1;31mRunning cells with '/bin/python3' requires the ipykernel package.\n",
      "\u001b[1;31mRun the following command to install 'ipykernel' into the Python environment. \n",
      "\u001b[1;31mCommand: '/bin/python3 -m pip install ipykernel -U --user --force-reinstall'"
     ]
    }
   ],
   "source": [
    "RIDRETH3_factored <- factor(df1$RIDRETH3)\n",
    "Eth_factored <- factor(df2$Eth)"
   ]
  },
  {
   "cell_type": "markdown",
   "id": "0f449780",
   "metadata": {},
   "source": [
    "Refactoring NHANES categorical ethnicity variable, merging values ..."
   ]
  },
  {
   "cell_type": "code",
   "execution_count": null,
   "id": "10ef22ac-1453-4a94-8f09-8ca7fa7c1f13",
   "metadata": {},
   "outputs": [
    {
     "ename": "",
     "evalue": "",
     "output_type": "error",
     "traceback": [
      "\u001b[1;31mRunning cells with '/bin/python3' requires the ipykernel package.\n",
      "\u001b[1;31mRun the following command to install 'ipykernel' into the Python environment. \n",
      "\u001b[1;31mCommand: '/bin/python3 -m pip install ipykernel -U --user --force-reinstall'"
     ]
    }
   ],
   "source": [
    "new.levels <- c(8, 8, 9, 4, 6, 9)\n",
    "RIDRETH3_factored <- factor(new.levels[RIDRETH3_factored])"
   ]
  },
  {
   "cell_type": "markdown",
   "id": "d2b27c02",
   "metadata": {},
   "source": [
    "Refactoring NHANES-HADatAc categorical ethnicity variable, merging values ..."
   ]
  },
  {
   "cell_type": "code",
   "execution_count": null,
   "id": "073da77f-e6a0-4d14-930c-e45fdf7bcdde",
   "metadata": {},
   "outputs": [
    {
     "ename": "",
     "evalue": "",
     "output_type": "error",
     "traceback": [
      "\u001b[1;31mRunning cells with '/bin/python3' requires the ipykernel package.\n",
      "\u001b[1;31mRun the following command to install 'ipykernel' into the Python environment. \n",
      "\u001b[1;31mCommand: '/bin/python3 -m pip install ipykernel -U --user --force-reinstall'"
     ]
    }
   ],
   "source": [
    "new.levels <- c(9, 4, 6, 8, 8, 9)\n",
    "Eth_factored <- factor(new.levels[Eth_factored])"
   ]
  },
  {
   "cell_type": "markdown",
   "id": "d886590b",
   "metadata": {},
   "source": [
    "Saving new factored variables back to the dataframes."
   ]
  },
  {
   "cell_type": "code",
   "execution_count": null,
   "id": "f2fd591e-64c8-4bbc-b362-826f9257a1b9",
   "metadata": {},
   "outputs": [
    {
     "ename": "",
     "evalue": "",
     "output_type": "error",
     "traceback": [
      "\u001b[1;31mRunning cells with '/bin/python3' requires the ipykernel package.\n",
      "\u001b[1;31mRun the following command to install 'ipykernel' into the Python environment. \n",
      "\u001b[1;31mCommand: '/bin/python3 -m pip install ipykernel -U --user --force-reinstall'"
     ]
    }
   ],
   "source": [
    "df1$RIDRETH3_factored <- RIDRETH3_factored\n",
    "df2$Eth_factored <- Eth_factored"
   ]
  },
  {
   "cell_type": "markdown",
   "id": "8fd62a54",
   "metadata": {},
   "source": [
    "Loading the NHANES survey as `nhanes1` and NHANES-HADatAc survey as `nhanes2`."
   ]
  },
  {
   "cell_type": "code",
   "execution_count": null,
   "id": "ebe22fcf-56c1-464b-a3c4-7220383795a5",
   "metadata": {},
   "outputs": [
    {
     "ename": "",
     "evalue": "",
     "output_type": "error",
     "traceback": [
      "\u001b[1;31mRunning cells with '/bin/python3' requires the ipykernel package.\n",
      "\u001b[1;31mRun the following command to install 'ipykernel' into the Python environment. \n",
      "\u001b[1;31mCommand: '/bin/python3 -m pip install ipykernel -U --user --force-reinstall'"
     ]
    }
   ],
   "source": [
    "nhanes1 <- svydesign(data=df1,\n",
    "                    id=~SDMVPSU,\n",
    "                    strata=~SDMVSTRA,\n",
    "                    weights=~WTINT2YR,\n",
    "                    nest=TRUE)\n",
    "\n",
    "nhanes2 <- svydesign(data=df2,\n",
    "                    id=~PSU,\n",
    "                    strata=~Stratum,\n",
    "                    weights=~WeightInterview,\n",
    "                    nest=TRUE)"
   ]
  },
  {
   "cell_type": "markdown",
   "id": "14daba98",
   "metadata": {},
   "source": [
    "Calculating representativeness of ethnicity using the reactored variables in both surveys."
   ]
  },
  {
   "cell_type": "code",
   "execution_count": null,
   "id": "77befa75-aa13-4cd1-8808-8e00e1e29f53",
   "metadata": {},
   "outputs": [
    {
     "ename": "",
     "evalue": "",
     "output_type": "error",
     "traceback": [
      "\u001b[1;31mRunning cells with '/bin/python3' requires the ipykernel package.\n",
      "\u001b[1;31mRun the following command to install 'ipykernel' into the Python environment. \n",
      "\u001b[1;31mCommand: '/bin/python3 -m pip install ipykernel -U --user --force-reinstall'"
     ]
    }
   ],
   "source": [
    "race_mean1 <- svymean(~RIDRETH3_factored, nhanes1)\n",
    "race_mean1\n",
    "\n",
    "race_mean2 <- svymean(~Eth_factored, nhanes2)\n",
    "race_mean2"
   ]
  },
  {
   "cell_type": "markdown",
   "id": "b700e3c4",
   "metadata": {},
   "source": [
    "Plotting the results as a bar chart."
   ]
  },
  {
   "cell_type": "code",
   "execution_count": null,
   "id": "777574b1-8bfe-44e1-9dd6-c855bbc06d23",
   "metadata": {},
   "outputs": [
    {
     "ename": "",
     "evalue": "",
     "output_type": "error",
     "traceback": [
      "\u001b[1;31mRunning cells with '/bin/python3' requires the ipykernel package.\n",
      "\u001b[1;31mRun the following command to install 'ipykernel' into the Python environment. \n",
      "\u001b[1;31mCommand: '/bin/python3 -m pip install ipykernel -U --user --force-reinstall'"
     ]
    }
   ],
   "source": [
    "barplot(race_mean1)\n",
    "barplot(race_mean2)"
   ]
  }
 ],
 "metadata": {
  "kernelspec": {
   "display_name": "Python 3",
   "language": "python",
   "name": "python3"
  },
  "language_info": {
   "codemirror_mode": {
    "name": "ipython",
    "version": 3
   },
   "file_extension": ".py",
   "mimetype": "text/x-python",
   "name": "python",
   "nbconvert_exporter": "python",
   "pygments_lexer": "ipython3",
   "version": "3.11.6"
  }
 },
 "nbformat": 4,
 "nbformat_minor": 5
}
